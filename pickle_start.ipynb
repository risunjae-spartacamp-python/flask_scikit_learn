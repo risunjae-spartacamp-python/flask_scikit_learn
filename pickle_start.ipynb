{
 "cells": [
  {
   "cell_type": "code",
   "execution_count": null,
   "id": "06303fa9",
   "metadata": {},
   "outputs": [],
   "source": [
    "import pickle\n",
    "import numpy as np\n",
    "with open(\"predict_population.pickle\", mode=\"rb\")as fp:\n",
    "    model = pickle.load(fp)\n",
    "model.predict(np.array([[1300000]]))"
   ]
  }
 ],
 "metadata": {
  "kernelspec": {
   "display_name": "Python 3.10.6 ('.venv': venv)",
   "language": "python",
   "name": "python3"
  },
  "language_info": {
   "codemirror_mode": {
    "name": "ipython",
    "version": 3
   },
   "file_extension": ".py",
   "mimetype": "text/x-python",
   "name": "python",
   "nbconvert_exporter": "python",
   "pygments_lexer": "ipython3",
   "version": "3.10.6"
  },
  "vscode": {
   "interpreter": {
    "hash": "edb0ae8c430f5e2bee1dcf931ec2dc2eaa4085abd01416cfb41b3a28657196c1"
   }
  }
 },
 "nbformat": 4,
 "nbformat_minor": 5
}
